{
  "nbformat": 4,
  "nbformat_minor": 0,
  "metadata": {
    "colab": {
      "provenance": [],
      "authorship_tag": "ABX9TyPNbfQoBb/WCOJZ2wz9t/yh",
      "include_colab_link": true
    },
    "kernelspec": {
      "name": "python3",
      "display_name": "Python 3"
    },
    "language_info": {
      "name": "python"
    }
  },
  "cells": [
    {
      "cell_type": "markdown",
      "metadata": {
        "id": "view-in-github",
        "colab_type": "text"
      },
      "source": [
        "<a href=\"https://colab.research.google.com/github/RahulVerma2444/LangChain-Currency-Conversion-Agent/blob/main/mobileLive_3.ipynb\" target=\"_parent\"><img src=\"https://colab.research.google.com/assets/colab-badge.svg\" alt=\"Open In Colab\"/></a>"
      ]
    },
    {
      "cell_type": "code",
      "execution_count": null,
      "metadata": {
        "id": "DGnbpntDiFOw"
      },
      "outputs": [],
      "source": [
        "#from secret_key import openapi_key\n",
        "import os\n",
        "os.environ['OPENAI_API_KEY'] = \"\"\n"
      ]
    },
    {
      "cell_type": "code",
      "source": [
        "%pip install --upgrade --quiet  langchain-community langchain-openai"
      ],
      "metadata": {
        "colab": {
          "base_uri": "https://localhost:8080/"
        },
        "id": "Atkw7mIcjAWM",
        "outputId": "801a7612-6ede-4683-bda1-4b868e52b08d"
      },
      "execution_count": null,
      "outputs": [
        {
          "output_type": "stream",
          "name": "stdout",
          "text": [
            "\u001b[?25l   \u001b[90m━━━━━━━━━━━━━━━━━━━━━━━━━━━━━━━━━━━━━━━━\u001b[0m \u001b[32m0.0/2.5 MB\u001b[0m \u001b[31m?\u001b[0m eta \u001b[36m-:--:--\u001b[0m\r\u001b[2K   \u001b[91m━━━━━━━━━━━━━━━━━━━━━━━━━━━━━━━━━━━━━━━\u001b[0m\u001b[91m╸\u001b[0m \u001b[32m2.5/2.5 MB\u001b[0m \u001b[31m142.6 MB/s\u001b[0m eta \u001b[36m0:00:01\u001b[0m\r\u001b[2K   \u001b[90m━━━━━━━━━━━━━━━━━━━━━━━━━━━━━━━━━━━━━━━━\u001b[0m \u001b[32m2.5/2.5 MB\u001b[0m \u001b[31m56.9 MB/s\u001b[0m eta \u001b[36m0:00:00\u001b[0m\n",
            "\u001b[?25h\u001b[?25l   \u001b[90m━━━━━━━━━━━━━━━━━━━━━━━━━━━━━━━━━━━━━━━━\u001b[0m \u001b[32m0.0/70.6 kB\u001b[0m \u001b[31m?\u001b[0m eta \u001b[36m-:--:--\u001b[0m\r\u001b[2K   \u001b[90m━━━━━━━━━━━━━━━━━━━━━━━━━━━━━━━━━━━━━━━━\u001b[0m \u001b[32m70.6/70.6 kB\u001b[0m \u001b[31m5.4 MB/s\u001b[0m eta \u001b[36m0:00:00\u001b[0m\n",
            "\u001b[?25h\u001b[?25l   \u001b[90m━━━━━━━━━━━━━━━━━━━━━━━━━━━━━━━━━━━━━━━━\u001b[0m \u001b[32m0.0/45.2 kB\u001b[0m \u001b[31m?\u001b[0m eta \u001b[36m-:--:--\u001b[0m\r\u001b[2K   \u001b[90m━━━━━━━━━━━━━━━━━━━━━━━━━━━━━━━━━━━━━━━━\u001b[0m \u001b[32m45.2/45.2 kB\u001b[0m \u001b[31m3.2 MB/s\u001b[0m eta \u001b[36m0:00:00\u001b[0m\n",
            "\u001b[?25h\u001b[?25l   \u001b[90m━━━━━━━━━━━━━━━━━━━━━━━━━━━━━━━━━━━━━━━━\u001b[0m \u001b[32m0.0/50.9 kB\u001b[0m \u001b[31m?\u001b[0m eta \u001b[36m-:--:--\u001b[0m\r\u001b[2K   \u001b[90m━━━━━━━━━━━━━━━━━━━━━━━━━━━━━━━━━━━━━━━━\u001b[0m \u001b[32m50.9/50.9 kB\u001b[0m \u001b[31m3.5 MB/s\u001b[0m eta \u001b[36m0:00:00\u001b[0m\n",
            "\u001b[?25h"
          ]
        }
      ]
    },
    {
      "cell_type": "code",
      "source": [
        "import requests\n",
        "url = \"https://api.frankfurter.dev/v1/latest?from={base}&to={target}\"\n",
        "\n",
        "response = requests.get(url)\n",
        "\n",
        "\n",
        "print(response.json())"
      ],
      "metadata": {
        "colab": {
          "base_uri": "https://localhost:8080/"
        },
        "id": "oWqo1qhBjlS5",
        "outputId": "71cf1fc3-6818-483d-d820-bd4695ac3760"
      },
      "execution_count": null,
      "outputs": [
        {
          "output_type": "stream",
          "name": "stdout",
          "text": [
            "{'message': 'not found'}\n"
          ]
        }
      ]
    },
    {
      "cell_type": "code",
      "source": [
        "from langchain.llms import OpenAI\n",
        "\n",
        "llm = OpenAI(temperature=0.6)"
      ],
      "metadata": {
        "id": "u4-DSBgXqaM6"
      },
      "execution_count": null,
      "outputs": []
    },
    {
      "cell_type": "code",
      "source": [
        "import requests\n",
        "def convert_currency(amount, base_currency, target_currency):\n",
        "    url = f\"https://api.frankfurter.dev/v1/latest?amount={amount}&from={base_currency}&to={target_currency}\"\n",
        "    response = requests.get(url)\n",
        "    return response.json()"
      ],
      "metadata": {
        "id": "H3tmtQSSkwF0"
      },
      "execution_count": null,
      "outputs": []
    },
    {
      "cell_type": "code",
      "source": [
        "from langchain.tools import Tool\n",
        "import re\n",
        "\n",
        "def handle_currency_query(query: str) -> str:\n",
        "    match = re.search(r\"(\\d+\\.?\\d*)\\s*([A-Z]{3})\\b.*?\\b(to|in)\\b.*?\\b([A-Z]{3})\", query.upper())\n",
        "\n",
        "    if not match:\n",
        "        return \"Sorry, I couldn't extract the amount and currencies. Try something like 'Convert 100 USD to EUR'.\"\n",
        "\n",
        "    amount, from_currency, _, to_currency = match.groups()\n",
        "\n",
        "    # Call your real converter here (API or logic)\n",
        "    text = convert_currency(amount, from_currency, to_currency)\n",
        "    return text  # placeholder\n"
      ],
      "metadata": {
        "id": "iNLKGYRMt7VK"
      },
      "execution_count": null,
      "outputs": []
    },
    {
      "cell_type": "code",
      "source": [
        "from langchain.tools import Tool\n",
        "import re\n",
        "\n",
        "def handle_currency_query(query: str):\n",
        "    match = re.search(r\"(?i)(\\d+(?:\\.\\d+)?)\\s*([A-Z]{3})\\s*(?:to|in)\\s*([A-Z]{3})\", query)\n",
        "\n",
        "    if not match:\n",
        "        return \"Sorry, I couldn't extract the amount and currencies. Try something like 'Convert 100 USD to EUR'.\"\n",
        "\n",
        "    amount, from_currency, to_currency = match.groups()\n",
        "\n",
        "    try:\n",
        "        # Assuming convert_currency returns the converted amount directly\n",
        "        converted_amount = convert_currency(amount, from_currency, to_currency)\n",
        "        return converted_amount\n",
        "    except Exception as e:\n",
        "        return f\"An error occurred during currency conversion: {e}\""
      ],
      "metadata": {
        "id": "Pp77WiSprmK4"
      },
      "execution_count": null,
      "outputs": []
    },
    {
      "cell_type": "code",
      "source": [
        "currency_tool = Tool(\n",
        "    name=\"CurrencyConverter\",\n",
        "    func=handle_currency_query,\n",
        "    description=(\n",
        "        \"Converts money from one currency to another\"\n",
        "        \"Use when user asks to convert between currencies\"\n",
        "        \"Input example: 'Convert 100 USD to EUR' or 'What is 250 CAD in GBP?'\"\n",
        "    )\n",
        "\n",
        ")"
      ],
      "metadata": {
        "id": "7ylrNJvExivT"
      },
      "execution_count": null,
      "outputs": []
    },
    {
      "cell_type": "code",
      "source": [
        "from langchain.agents import AgentType, initialize_agent, load_tools\n",
        "from langchain.agents.agent_types import AgentType\n",
        "\n",
        "\n",
        "agent = initialize_agent(\n",
        "    tools=[currency_tool],\n",
        "    llm=llm,\n",
        "    agent=AgentType.ZERO_SHOT_REACT_DESCRIPTION,\n",
        "    verbose=True\n",
        ")\n",
        "\n"
      ],
      "metadata": {
        "id": "gzaD6UdKudbk"
      },
      "execution_count": null,
      "outputs": []
    },
    {
      "cell_type": "code",
      "source": [
        "agent.run(\"Help me find what 293 USD is in EUR\")"
      ],
      "metadata": {
        "colab": {
          "base_uri": "https://localhost:8080/",
          "height": 226
        },
        "id": "UQMYz-QWur9H",
        "outputId": "f56f0df8-43f2-462a-e56f-5064a9e4c38b"
      },
      "execution_count": null,
      "outputs": [
        {
          "output_type": "stream",
          "name": "stdout",
          "text": [
            "\n",
            "\n",
            "\u001b[1m> Entering new AgentExecutor chain...\u001b[0m\n",
            "\u001b[32;1m\u001b[1;3m I need to use the CurrencyConverter tool to convert USD to EUR\n",
            "Action: CurrencyConverter\n",
            "Action Input: Convert 293 USD to EUR\u001b[0m\n",
            "Observation: \u001b[36;1m\u001b[1;3m{'amount': 293.0, 'base': 'USD', 'date': '2025-07-18', 'rates': {'EUR': 251.51}}\u001b[0m\n",
            "Thought:\u001b[32;1m\u001b[1;3m I now know the final answer\n",
            "Final Answer: 251.51 EUR\u001b[0m\n",
            "\n",
            "\u001b[1m> Finished chain.\u001b[0m\n"
          ]
        },
        {
          "output_type": "execute_result",
          "data": {
            "text/plain": [
              "'251.51 EUR'"
            ],
            "application/vnd.google.colaboratory.intrinsic+json": {
              "type": "string"
            }
          },
          "metadata": {},
          "execution_count": 51
        }
      ]
    }
  ]
}